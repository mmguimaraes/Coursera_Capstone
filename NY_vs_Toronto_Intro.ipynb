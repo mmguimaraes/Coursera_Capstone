{
 "cells": [
  {
   "cell_type": "markdown",
   "metadata": {},
   "source": [
    "# Comparing Neighborhoods in New York City and Toronto\n",
    "\n",
    "# 1 - Introduction\n",
    "\n",
    "When you have to move to a different country it is always difficult to find the right neigborhood to live.\n",
    "This problem can be minimized if we can compare the neighborhoods in differents cities and make a list of \n",
    "the best candidates.\n",
    "In order to analyze this problem we will treat three different cases, each one corresponding to a person that\n",
    "lives in a different neighborhood in Toronto.\n",
    "We will use Foursquare to analyze the venues in each of the three neighborhoods in Toronto and later we will create a list of possible candidates in New York City.\n",
    "****"
   ]
  },
  {
   "cell_type": "markdown",
   "metadata": {},
   "source": [
    "# 2 - Data\n",
    "\n",
    "In order to understand the distribution of venues in New York City and Toronto, and start to search for good areas to live, we will use data from Foursquare. \n",
    "We will use the Foursquare API to retrieve relevant data for New York City and Toronto and organize it into pandas Dataframes.\n",
    "\n",
    "We will also use geolocaliztion data for Toronto and New York City, available in previous modules of this Capstone Project."
   ]
  },
  {
   "cell_type": "code",
   "execution_count": null,
   "metadata": {},
   "outputs": [],
   "source": []
  }
 ],
 "metadata": {
  "kernelspec": {
   "display_name": "Python 3",
   "language": "python",
   "name": "python3"
  },
  "language_info": {
   "codemirror_mode": {
    "name": "ipython",
    "version": 3
   },
   "file_extension": ".py",
   "mimetype": "text/x-python",
   "name": "python",
   "nbconvert_exporter": "python",
   "pygments_lexer": "ipython3",
   "version": "3.7.3"
  }
 },
 "nbformat": 4,
 "nbformat_minor": 2
}
